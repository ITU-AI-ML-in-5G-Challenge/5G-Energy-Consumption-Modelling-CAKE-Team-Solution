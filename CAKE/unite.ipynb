{
 "cells": [
  {
   "cell_type": "code",
   "execution_count": null,
   "metadata": {},
   "outputs": [],
   "source": [
    "import pandas as pd\n",
    "\n",
    "TestBS_in_TrainingSet_result = pd.read_csv('./power_consumption_prediction_TestBS-in-TrainingSet.csv')\n",
    "TestBS_not_in_TrainingSet_result = pd.read_csv('./power_consumption_prediction_TestBS-not-in-TrainingSet.csv')\n",
    "index = pd.read_csv('EnergyContest/power_consumption_prediction.csv')\n",
    "\n",
    "mask = index['w'] == 1  \n",
    "TestBS_not_in_TrainingSet_result.loc[mask, 'Energy'] = TestBS_in_TrainingSet_result.loc[mask, 'Energy'] \n",
    "TestBS_not_in_TrainingSet_result.to_csv('./power_consumption_prediction_new.csv', index=False)"
   ]
  }
 ],
 "metadata": {
  "kernelspec": {
   "display_name": "Python 3 (ipykernel)",
   "language": "python",
   "name": "python3"
  },
  "language_info": {
   "codemirror_mode": {
    "name": "ipython",
    "version": 3
   },
   "file_extension": ".py",
   "mimetype": "text/x-python",
   "name": "python",
   "nbconvert_exporter": "python",
   "pygments_lexer": "ipython3",
   "version": "3.9.16"
  }
 },
 "nbformat": 4,
 "nbformat_minor": 2
}
